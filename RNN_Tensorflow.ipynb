{
  "nbformat": 4,
  "nbformat_minor": 0,
  "metadata": {
    "colab": {
      "name": "Flu Sequence Detector.ipynb",
      "provenance": [],
      "collapsed_sections": [],
      "machine_shape": "hm"
    },
    "kernelspec": {
      "name": "python3",
      "display_name": "Python 3"
    },
    "accelerator": "GPU"
  },
  "cells": [
    {
      "cell_type": "code",
      "metadata": {
        "id": "xmFkRPKeKZVE",
        "colab_type": "code",
        "outputId": "160aa668-0895-4894-ecf0-bfc7cebcedc4",
        "colab": {
          "base_uri": "https://localhost:8080/",
          "height": 138
        }
      },
      "source": [
        "!pip install Biopython"
      ],
      "execution_count": 1,
      "outputs": [
        {
          "output_type": "stream",
          "text": [
            "Collecting Biopython\n",
            "\u001b[?25l  Downloading https://files.pythonhosted.org/packages/83/3d/e0c8a993dbea1136be90c31345aefc5babdd5046cd52f81c18fc3fdad865/biopython-1.76-cp36-cp36m-manylinux1_x86_64.whl (2.3MB)\n",
            "\r\u001b[K     |▏                               | 10kB 18.0MB/s eta 0:00:01\r\u001b[K     |▎                               | 20kB 4.2MB/s eta 0:00:01\r\u001b[K     |▍                               | 30kB 5.3MB/s eta 0:00:01\r\u001b[K     |▋                               | 40kB 5.5MB/s eta 0:00:01\r\u001b[K     |▊                               | 51kB 4.6MB/s eta 0:00:01\r\u001b[K     |▉                               | 61kB 5.1MB/s eta 0:00:01\r\u001b[K     |█                               | 71kB 5.5MB/s eta 0:00:01\r\u001b[K     |█▏                              | 81kB 5.9MB/s eta 0:00:01\r\u001b[K     |█▎                              | 92kB 5.7MB/s eta 0:00:01\r\u001b[K     |█▍                              | 102kB 6.0MB/s eta 0:00:01\r\u001b[K     |█▋                              | 112kB 6.0MB/s eta 0:00:01\r\u001b[K     |█▊                              | 122kB 6.0MB/s eta 0:00:01\r\u001b[K     |█▉                              | 133kB 6.0MB/s eta 0:00:01\r\u001b[K     |██                              | 143kB 6.0MB/s eta 0:00:01\r\u001b[K     |██▏                             | 153kB 6.0MB/s eta 0:00:01\r\u001b[K     |██▎                             | 163kB 6.0MB/s eta 0:00:01\r\u001b[K     |██▌                             | 174kB 6.0MB/s eta 0:00:01\r\u001b[K     |██▋                             | 184kB 6.0MB/s eta 0:00:01\r\u001b[K     |██▊                             | 194kB 6.0MB/s eta 0:00:01\r\u001b[K     |██▉                             | 204kB 6.0MB/s eta 0:00:01\r\u001b[K     |███                             | 215kB 6.0MB/s eta 0:00:01\r\u001b[K     |███▏                            | 225kB 6.0MB/s eta 0:00:01\r\u001b[K     |███▎                            | 235kB 6.0MB/s eta 0:00:01\r\u001b[K     |███▌                            | 245kB 6.0MB/s eta 0:00:01\r\u001b[K     |███▋                            | 256kB 6.0MB/s eta 0:00:01\r\u001b[K     |███▊                            | 266kB 6.0MB/s eta 0:00:01\r\u001b[K     |███▉                            | 276kB 6.0MB/s eta 0:00:01\r\u001b[K     |████                            | 286kB 6.0MB/s eta 0:00:01\r\u001b[K     |████▏                           | 296kB 6.0MB/s eta 0:00:01\r\u001b[K     |████▎                           | 307kB 6.0MB/s eta 0:00:01\r\u001b[K     |████▌                           | 317kB 6.0MB/s eta 0:00:01\r\u001b[K     |████▋                           | 327kB 6.0MB/s eta 0:00:01\r\u001b[K     |████▊                           | 337kB 6.0MB/s eta 0:00:01\r\u001b[K     |█████                           | 348kB 6.0MB/s eta 0:00:01\r\u001b[K     |█████                           | 358kB 6.0MB/s eta 0:00:01\r\u001b[K     |█████▏                          | 368kB 6.0MB/s eta 0:00:01\r\u001b[K     |█████▎                          | 378kB 6.0MB/s eta 0:00:01\r\u001b[K     |█████▌                          | 389kB 6.0MB/s eta 0:00:01\r\u001b[K     |█████▋                          | 399kB 6.0MB/s eta 0:00:01\r\u001b[K     |█████▊                          | 409kB 6.0MB/s eta 0:00:01\r\u001b[K     |██████                          | 419kB 6.0MB/s eta 0:00:01\r\u001b[K     |██████                          | 430kB 6.0MB/s eta 0:00:01\r\u001b[K     |██████▏                         | 440kB 6.0MB/s eta 0:00:01\r\u001b[K     |██████▍                         | 450kB 6.0MB/s eta 0:00:01\r\u001b[K     |██████▌                         | 460kB 6.0MB/s eta 0:00:01\r\u001b[K     |██████▋                         | 471kB 6.0MB/s eta 0:00:01\r\u001b[K     |██████▊                         | 481kB 6.0MB/s eta 0:00:01\r\u001b[K     |███████                         | 491kB 6.0MB/s eta 0:00:01\r\u001b[K     |███████                         | 501kB 6.0MB/s eta 0:00:01\r\u001b[K     |███████▏                        | 512kB 6.0MB/s eta 0:00:01\r\u001b[K     |███████▍                        | 522kB 6.0MB/s eta 0:00:01\r\u001b[K     |███████▌                        | 532kB 6.0MB/s eta 0:00:01\r\u001b[K     |███████▋                        | 542kB 6.0MB/s eta 0:00:01\r\u001b[K     |███████▊                        | 552kB 6.0MB/s eta 0:00:01\r\u001b[K     |████████                        | 563kB 6.0MB/s eta 0:00:01\r\u001b[K     |████████                        | 573kB 6.0MB/s eta 0:00:01\r\u001b[K     |████████▏                       | 583kB 6.0MB/s eta 0:00:01\r\u001b[K     |████████▍                       | 593kB 6.0MB/s eta 0:00:01\r\u001b[K     |████████▌                       | 604kB 6.0MB/s eta 0:00:01\r\u001b[K     |████████▋                       | 614kB 6.0MB/s eta 0:00:01\r\u001b[K     |████████▉                       | 624kB 6.0MB/s eta 0:00:01\r\u001b[K     |█████████                       | 634kB 6.0MB/s eta 0:00:01\r\u001b[K     |█████████                       | 645kB 6.0MB/s eta 0:00:01\r\u001b[K     |█████████▏                      | 655kB 6.0MB/s eta 0:00:01\r\u001b[K     |█████████▍                      | 665kB 6.0MB/s eta 0:00:01\r\u001b[K     |█████████▌                      | 675kB 6.0MB/s eta 0:00:01\r\u001b[K     |█████████▋                      | 686kB 6.0MB/s eta 0:00:01\r\u001b[K     |█████████▉                      | 696kB 6.0MB/s eta 0:00:01\r\u001b[K     |██████████                      | 706kB 6.0MB/s eta 0:00:01\r\u001b[K     |██████████                      | 716kB 6.0MB/s eta 0:00:01\r\u001b[K     |██████████▎                     | 727kB 6.0MB/s eta 0:00:01\r\u001b[K     |██████████▍                     | 737kB 6.0MB/s eta 0:00:01\r\u001b[K     |██████████▌                     | 747kB 6.0MB/s eta 0:00:01\r\u001b[K     |██████████▋                     | 757kB 6.0MB/s eta 0:00:01\r\u001b[K     |██████████▉                     | 768kB 6.0MB/s eta 0:00:01\r\u001b[K     |███████████                     | 778kB 6.0MB/s eta 0:00:01\r\u001b[K     |███████████                     | 788kB 6.0MB/s eta 0:00:01\r\u001b[K     |███████████▎                    | 798kB 6.0MB/s eta 0:00:01\r\u001b[K     |███████████▍                    | 808kB 6.0MB/s eta 0:00:01\r\u001b[K     |███████████▌                    | 819kB 6.0MB/s eta 0:00:01\r\u001b[K     |███████████▋                    | 829kB 6.0MB/s eta 0:00:01\r\u001b[K     |███████████▉                    | 839kB 6.0MB/s eta 0:00:01\r\u001b[K     |████████████                    | 849kB 6.0MB/s eta 0:00:01\r\u001b[K     |████████████                    | 860kB 6.0MB/s eta 0:00:01\r\u001b[K     |████████████▎                   | 870kB 6.0MB/s eta 0:00:01\r\u001b[K     |████████████▍                   | 880kB 6.0MB/s eta 0:00:01\r\u001b[K     |████████████▌                   | 890kB 6.0MB/s eta 0:00:01\r\u001b[K     |████████████▊                   | 901kB 6.0MB/s eta 0:00:01\r\u001b[K     |████████████▉                   | 911kB 6.0MB/s eta 0:00:01\r\u001b[K     |█████████████                   | 921kB 6.0MB/s eta 0:00:01\r\u001b[K     |█████████████                   | 931kB 6.0MB/s eta 0:00:01\r\u001b[K     |█████████████▎                  | 942kB 6.0MB/s eta 0:00:01\r\u001b[K     |█████████████▍                  | 952kB 6.0MB/s eta 0:00:01\r\u001b[K     |█████████████▌                  | 962kB 6.0MB/s eta 0:00:01\r\u001b[K     |█████████████▊                  | 972kB 6.0MB/s eta 0:00:01\r\u001b[K     |█████████████▉                  | 983kB 6.0MB/s eta 0:00:01\r\u001b[K     |██████████████                  | 993kB 6.0MB/s eta 0:00:01\r\u001b[K     |██████████████                  | 1.0MB 6.0MB/s eta 0:00:01\r\u001b[K     |██████████████▎                 | 1.0MB 6.0MB/s eta 0:00:01\r\u001b[K     |██████████████▍                 | 1.0MB 6.0MB/s eta 0:00:01\r\u001b[K     |██████████████▌                 | 1.0MB 6.0MB/s eta 0:00:01\r\u001b[K     |██████████████▊                 | 1.0MB 6.0MB/s eta 0:00:01\r\u001b[K     |██████████████▉                 | 1.1MB 6.0MB/s eta 0:00:01\r\u001b[K     |███████████████                 | 1.1MB 6.0MB/s eta 0:00:01\r\u001b[K     |███████████████▏                | 1.1MB 6.0MB/s eta 0:00:01\r\u001b[K     |███████████████▎                | 1.1MB 6.0MB/s eta 0:00:01\r\u001b[K     |███████████████▍                | 1.1MB 6.0MB/s eta 0:00:01\r\u001b[K     |███████████████▌                | 1.1MB 6.0MB/s eta 0:00:01\r\u001b[K     |███████████████▊                | 1.1MB 6.0MB/s eta 0:00:01\r\u001b[K     |███████████████▉                | 1.1MB 6.0MB/s eta 0:00:01\r\u001b[K     |████████████████                | 1.1MB 6.0MB/s eta 0:00:01\r\u001b[K     |████████████████▏               | 1.1MB 6.0MB/s eta 0:00:01\r\u001b[K     |████████████████▎               | 1.2MB 6.0MB/s eta 0:00:01\r\u001b[K     |████████████████▍               | 1.2MB 6.0MB/s eta 0:00:01\r\u001b[K     |████████████████▋               | 1.2MB 6.0MB/s eta 0:00:01\r\u001b[K     |████████████████▊               | 1.2MB 6.0MB/s eta 0:00:01\r\u001b[K     |████████████████▉               | 1.2MB 6.0MB/s eta 0:00:01\r\u001b[K     |█████████████████               | 1.2MB 6.0MB/s eta 0:00:01\r\u001b[K     |█████████████████▏              | 1.2MB 6.0MB/s eta 0:00:01\r\u001b[K     |█████████████████▎              | 1.2MB 6.0MB/s eta 0:00:01\r\u001b[K     |█████████████████▍              | 1.2MB 6.0MB/s eta 0:00:01\r\u001b[K     |█████████████████▋              | 1.2MB 6.0MB/s eta 0:00:01\r\u001b[K     |█████████████████▊              | 1.3MB 6.0MB/s eta 0:00:01\r\u001b[K     |█████████████████▉              | 1.3MB 6.0MB/s eta 0:00:01\r\u001b[K     |██████████████████              | 1.3MB 6.0MB/s eta 0:00:01\r\u001b[K     |██████████████████▏             | 1.3MB 6.0MB/s eta 0:00:01\r\u001b[K     |██████████████████▎             | 1.3MB 6.0MB/s eta 0:00:01\r\u001b[K     |██████████████████▍             | 1.3MB 6.0MB/s eta 0:00:01\r\u001b[K     |██████████████████▋             | 1.3MB 6.0MB/s eta 0:00:01\r\u001b[K     |██████████████████▊             | 1.3MB 6.0MB/s eta 0:00:01\r\u001b[K     |██████████████████▉             | 1.3MB 6.0MB/s eta 0:00:01\r\u001b[K     |███████████████████             | 1.4MB 6.0MB/s eta 0:00:01\r\u001b[K     |███████████████████▏            | 1.4MB 6.0MB/s eta 0:00:01\r\u001b[K     |███████████████████▎            | 1.4MB 6.0MB/s eta 0:00:01\r\u001b[K     |███████████████████▍            | 1.4MB 6.0MB/s eta 0:00:01\r\u001b[K     |███████████████████▋            | 1.4MB 6.0MB/s eta 0:00:01\r\u001b[K     |███████████████████▊            | 1.4MB 6.0MB/s eta 0:00:01\r\u001b[K     |███████████████████▉            | 1.4MB 6.0MB/s eta 0:00:01\r\u001b[K     |████████████████████            | 1.4MB 6.0MB/s eta 0:00:01\r\u001b[K     |████████████████████▏           | 1.4MB 6.0MB/s eta 0:00:01\r\u001b[K     |████████████████████▎           | 1.4MB 6.0MB/s eta 0:00:01\r\u001b[K     |████████████████████▌           | 1.5MB 6.0MB/s eta 0:00:01\r\u001b[K     |████████████████████▋           | 1.5MB 6.0MB/s eta 0:00:01\r\u001b[K     |████████████████████▊           | 1.5MB 6.0MB/s eta 0:00:01\r\u001b[K     |████████████████████▉           | 1.5MB 6.0MB/s eta 0:00:01\r\u001b[K     |█████████████████████           | 1.5MB 6.0MB/s eta 0:00:01\r\u001b[K     |█████████████████████▏          | 1.5MB 6.0MB/s eta 0:00:01\r\u001b[K     |█████████████████████▎          | 1.5MB 6.0MB/s eta 0:00:01\r\u001b[K     |█████████████████████▌          | 1.5MB 6.0MB/s eta 0:00:01\r\u001b[K     |█████████████████████▋          | 1.5MB 6.0MB/s eta 0:00:01\r\u001b[K     |█████████████████████▊          | 1.5MB 6.0MB/s eta 0:00:01\r\u001b[K     |█████████████████████▉          | 1.6MB 6.0MB/s eta 0:00:01\r\u001b[K     |██████████████████████          | 1.6MB 6.0MB/s eta 0:00:01\r\u001b[K     |██████████████████████▏         | 1.6MB 6.0MB/s eta 0:00:01\r\u001b[K     |██████████████████████▎         | 1.6MB 6.0MB/s eta 0:00:01\r\u001b[K     |██████████████████████▌         | 1.6MB 6.0MB/s eta 0:00:01\r\u001b[K     |██████████████████████▋         | 1.6MB 6.0MB/s eta 0:00:01\r\u001b[K     |██████████████████████▊         | 1.6MB 6.0MB/s eta 0:00:01\r\u001b[K     |███████████████████████         | 1.6MB 6.0MB/s eta 0:00:01\r\u001b[K     |███████████████████████         | 1.6MB 6.0MB/s eta 0:00:01\r\u001b[K     |███████████████████████▏        | 1.6MB 6.0MB/s eta 0:00:01\r\u001b[K     |███████████████████████▎        | 1.7MB 6.0MB/s eta 0:00:01\r\u001b[K     |███████████████████████▌        | 1.7MB 6.0MB/s eta 0:00:01\r\u001b[K     |███████████████████████▋        | 1.7MB 6.0MB/s eta 0:00:01\r\u001b[K     |███████████████████████▊        | 1.7MB 6.0MB/s eta 0:00:01\r\u001b[K     |████████████████████████        | 1.7MB 6.0MB/s eta 0:00:01\r\u001b[K     |████████████████████████        | 1.7MB 6.0MB/s eta 0:00:01\r\u001b[K     |████████████████████████▏       | 1.7MB 6.0MB/s eta 0:00:01\r\u001b[K     |████████████████████████▎       | 1.7MB 6.0MB/s eta 0:00:01\r\u001b[K     |████████████████████████▌       | 1.7MB 6.0MB/s eta 0:00:01\r\u001b[K     |████████████████████████▋       | 1.8MB 6.0MB/s eta 0:00:01\r\u001b[K     |████████████████████████▊       | 1.8MB 6.0MB/s eta 0:00:01\r\u001b[K     |█████████████████████████       | 1.8MB 6.0MB/s eta 0:00:01\r\u001b[K     |█████████████████████████       | 1.8MB 6.0MB/s eta 0:00:01\r\u001b[K     |█████████████████████████▏      | 1.8MB 6.0MB/s eta 0:00:01\r\u001b[K     |█████████████████████████▍      | 1.8MB 6.0MB/s eta 0:00:01\r\u001b[K     |█████████████████████████▌      | 1.8MB 6.0MB/s eta 0:00:01\r\u001b[K     |█████████████████████████▋      | 1.8MB 6.0MB/s eta 0:00:01\r\u001b[K     |█████████████████████████▊      | 1.8MB 6.0MB/s eta 0:00:01\r\u001b[K     |██████████████████████████      | 1.8MB 6.0MB/s eta 0:00:01\r\u001b[K     |██████████████████████████      | 1.9MB 6.0MB/s eta 0:00:01\r\u001b[K     |██████████████████████████▏     | 1.9MB 6.0MB/s eta 0:00:01\r\u001b[K     |██████████████████████████▍     | 1.9MB 6.0MB/s eta 0:00:01\r\u001b[K     |██████████████████████████▌     | 1.9MB 6.0MB/s eta 0:00:01\r\u001b[K     |██████████████████████████▋     | 1.9MB 6.0MB/s eta 0:00:01\r\u001b[K     |██████████████████████████▉     | 1.9MB 6.0MB/s eta 0:00:01\r\u001b[K     |███████████████████████████     | 1.9MB 6.0MB/s eta 0:00:01\r\u001b[K     |███████████████████████████     | 1.9MB 6.0MB/s eta 0:00:01\r\u001b[K     |███████████████████████████▏    | 1.9MB 6.0MB/s eta 0:00:01\r\u001b[K     |███████████████████████████▍    | 1.9MB 6.0MB/s eta 0:00:01\r\u001b[K     |███████████████████████████▌    | 2.0MB 6.0MB/s eta 0:00:01\r\u001b[K     |███████████████████████████▋    | 2.0MB 6.0MB/s eta 0:00:01\r\u001b[K     |███████████████████████████▉    | 2.0MB 6.0MB/s eta 0:00:01\r\u001b[K     |████████████████████████████    | 2.0MB 6.0MB/s eta 0:00:01\r\u001b[K     |████████████████████████████    | 2.0MB 6.0MB/s eta 0:00:01\r\u001b[K     |████████████████████████████▏   | 2.0MB 6.0MB/s eta 0:00:01\r\u001b[K     |████████████████████████████▍   | 2.0MB 6.0MB/s eta 0:00:01\r\u001b[K     |████████████████████████████▌   | 2.0MB 6.0MB/s eta 0:00:01\r\u001b[K     |████████████████████████████▋   | 2.0MB 6.0MB/s eta 0:00:01\r\u001b[K     |████████████████████████████▉   | 2.0MB 6.0MB/s eta 0:00:01\r\u001b[K     |█████████████████████████████   | 2.1MB 6.0MB/s eta 0:00:01\r\u001b[K     |█████████████████████████████   | 2.1MB 6.0MB/s eta 0:00:01\r\u001b[K     |█████████████████████████████▎  | 2.1MB 6.0MB/s eta 0:00:01\r\u001b[K     |█████████████████████████████▍  | 2.1MB 6.0MB/s eta 0:00:01\r\u001b[K     |█████████████████████████████▌  | 2.1MB 6.0MB/s eta 0:00:01\r\u001b[K     |█████████████████████████████▋  | 2.1MB 6.0MB/s eta 0:00:01\r\u001b[K     |█████████████████████████████▉  | 2.1MB 6.0MB/s eta 0:00:01\r\u001b[K     |██████████████████████████████  | 2.1MB 6.0MB/s eta 0:00:01\r\u001b[K     |██████████████████████████████  | 2.1MB 6.0MB/s eta 0:00:01\r\u001b[K     |██████████████████████████████▎ | 2.2MB 6.0MB/s eta 0:00:01\r\u001b[K     |██████████████████████████████▍ | 2.2MB 6.0MB/s eta 0:00:01\r\u001b[K     |██████████████████████████████▌ | 2.2MB 6.0MB/s eta 0:00:01\r\u001b[K     |██████████████████████████████▊ | 2.2MB 6.0MB/s eta 0:00:01\r\u001b[K     |██████████████████████████████▉ | 2.2MB 6.0MB/s eta 0:00:01\r\u001b[K     |███████████████████████████████ | 2.2MB 6.0MB/s eta 0:00:01\r\u001b[K     |███████████████████████████████ | 2.2MB 6.0MB/s eta 0:00:01\r\u001b[K     |███████████████████████████████▎| 2.2MB 6.0MB/s eta 0:00:01\r\u001b[K     |███████████████████████████████▍| 2.2MB 6.0MB/s eta 0:00:01\r\u001b[K     |███████████████████████████████▌| 2.2MB 6.0MB/s eta 0:00:01\r\u001b[K     |███████████████████████████████▊| 2.3MB 6.0MB/s eta 0:00:01\r\u001b[K     |███████████████████████████████▉| 2.3MB 6.0MB/s eta 0:00:01\r\u001b[K     |████████████████████████████████| 2.3MB 6.0MB/s eta 0:00:01\r\u001b[K     |████████████████████████████████| 2.3MB 6.0MB/s \n",
            "\u001b[?25hRequirement already satisfied: numpy in /usr/local/lib/python3.6/dist-packages (from Biopython) (1.18.3)\n",
            "Installing collected packages: Biopython\n",
            "Successfully installed Biopython-1.76\n"
          ],
          "name": "stdout"
        }
      ]
    },
    {
      "cell_type": "code",
      "metadata": {
        "id": "OgaWaex9CaG9",
        "colab_type": "code",
        "colab": {}
      },
      "source": [
        "import itertools\n",
        "from datetime import datetime\n",
        "from Bio import SeqIO\n",
        "import numpy as np\n",
        "import pandas as pd"
      ],
      "execution_count": 0,
      "outputs": []
    },
    {
      "cell_type": "code",
      "metadata": {
        "id": "257Ou42JDhQF",
        "colab_type": "code",
        "colab": {}
      },
      "source": [
        "sequences = [s for s in SeqIO.parse(\"aligned_sequence.fasta\", \"fasta\")]\n",
        "metadata = pd.read_csv(\"metadata.tsv\",sep=\"\\t\",parse_dates=[\"Collection Date\"])"
      ],
      "execution_count": 0,
      "outputs": []
    },
    {
      "cell_type": "code",
      "metadata": {
        "id": "bTsnAeZksaHh",
        "colab_type": "code",
        "colab": {
          "base_uri": "https://localhost:8080/",
          "height": 232
        },
        "outputId": "eda6d7c0-73f7-4a49-bcfe-0fbea66f2f73"
      },
      "source": [
        "metadata = metadata.sort_values(by=['Collection Date'], ascending=True)\n",
        "metadata.head()"
      ],
      "execution_count": 4,
      "outputs": [
        {
          "output_type": "execute_result",
          "data": {
            "text/html": [
              "<div>\n",
              "<style scoped>\n",
              "    .dataframe tbody tr th:only-of-type {\n",
              "        vertical-align: middle;\n",
              "    }\n",
              "\n",
              "    .dataframe tbody tr th {\n",
              "        vertical-align: top;\n",
              "    }\n",
              "\n",
              "    .dataframe thead th {\n",
              "        text-align: right;\n",
              "    }\n",
              "</style>\n",
              "<table border=\"1\" class=\"dataframe\">\n",
              "  <thead>\n",
              "    <tr style=\"text-align: right;\">\n",
              "      <th></th>\n",
              "      <th>Name</th>\n",
              "      <th>Sequence Accession</th>\n",
              "      <th>Complete Genome</th>\n",
              "      <th>Segment</th>\n",
              "      <th>Segment Length</th>\n",
              "      <th>Subtype</th>\n",
              "      <th>Collection Date</th>\n",
              "      <th>Host Species</th>\n",
              "      <th>Country</th>\n",
              "      <th>State/Province</th>\n",
              "      <th>Flu Season</th>\n",
              "      <th>Strain Name</th>\n",
              "      <th>Unnamed: 12</th>\n",
              "    </tr>\n",
              "  </thead>\n",
              "  <tbody>\n",
              "    <tr>\n",
              "      <th>430</th>\n",
              "      <td>HA</td>\n",
              "      <td>MF535113</td>\n",
              "      <td>No</td>\n",
              "      <td>4</td>\n",
              "      <td>1701</td>\n",
              "      <td>H1N1</td>\n",
              "      <td>2009-01-01</td>\n",
              "      <td>IRD:Human</td>\n",
              "      <td>India</td>\n",
              "      <td>-N/A-</td>\n",
              "      <td>-N/A-</td>\n",
              "      <td>A/Jodhpur/1316/2009</td>\n",
              "      <td>NaN</td>\n",
              "    </tr>\n",
              "    <tr>\n",
              "      <th>125</th>\n",
              "      <td>HA</td>\n",
              "      <td>HM204566</td>\n",
              "      <td>No</td>\n",
              "      <td>4</td>\n",
              "      <td>1769</td>\n",
              "      <td>H1N1</td>\n",
              "      <td>2009-06-01</td>\n",
              "      <td>IRD:Human</td>\n",
              "      <td>India</td>\n",
              "      <td>-N/A-</td>\n",
              "      <td>-N/A-</td>\n",
              "      <td>A/Delhi/NIV57/2009</td>\n",
              "      <td>NaN</td>\n",
              "    </tr>\n",
              "    <tr>\n",
              "      <th>489</th>\n",
              "      <td>HA</td>\n",
              "      <td>HM204567</td>\n",
              "      <td>No</td>\n",
              "      <td>4</td>\n",
              "      <td>1709</td>\n",
              "      <td>H1N1</td>\n",
              "      <td>2009-06-01</td>\n",
              "      <td>IRD:Human</td>\n",
              "      <td>India</td>\n",
              "      <td>-N/A-</td>\n",
              "      <td>-N/A-</td>\n",
              "      <td>A/Mum/NIV261/2009</td>\n",
              "      <td>NaN</td>\n",
              "    </tr>\n",
              "    <tr>\n",
              "      <th>504</th>\n",
              "      <td>HA</td>\n",
              "      <td>CY075901</td>\n",
              "      <td>No</td>\n",
              "      <td>4</td>\n",
              "      <td>1760</td>\n",
              "      <td>H1N1</td>\n",
              "      <td>2009-06-21</td>\n",
              "      <td>IRD:Human</td>\n",
              "      <td>India</td>\n",
              "      <td>-N/A-</td>\n",
              "      <td>-N/A-</td>\n",
              "      <td>A/Pune/NIV161/2009</td>\n",
              "      <td>NaN</td>\n",
              "    </tr>\n",
              "    <tr>\n",
              "      <th>86</th>\n",
              "      <td>HA</td>\n",
              "      <td>CY075914</td>\n",
              "      <td>No</td>\n",
              "      <td>4</td>\n",
              "      <td>1756</td>\n",
              "      <td>H1N1</td>\n",
              "      <td>2009-06-27</td>\n",
              "      <td>IRD:Human</td>\n",
              "      <td>India</td>\n",
              "      <td>-N/A-</td>\n",
              "      <td>-N/A-</td>\n",
              "      <td>A/Che/NIV246/2009</td>\n",
              "      <td>NaN</td>\n",
              "    </tr>\n",
              "  </tbody>\n",
              "</table>\n",
              "</div>"
            ],
            "text/plain": [
              "    Name Sequence Accession  ...          Strain Name  Unnamed: 12\n",
              "430   HA           MF535113  ...  A/Jodhpur/1316/2009          NaN\n",
              "125   HA           HM204566  ...   A/Delhi/NIV57/2009          NaN\n",
              "489   HA           HM204567  ...    A/Mum/NIV261/2009          NaN\n",
              "504   HA           CY075901  ...   A/Pune/NIV161/2009          NaN\n",
              "86    HA           CY075914  ...    A/Che/NIV246/2009          NaN\n",
              "\n",
              "[5 rows x 13 columns]"
            ]
          },
          "metadata": {
            "tags": []
          },
          "execution_count": 4
        }
      ]
    },
    {
      "cell_type": "code",
      "metadata": {
        "id": "sMUgaJkKs8wv",
        "colab_type": "code",
        "colab": {}
      },
      "source": [
        "metadata.iloc[542:,:]  # data for testing"
      ],
      "execution_count": 0,
      "outputs": []
    },
    {
      "cell_type": "code",
      "metadata": {
        "id": "qRb6uEciN8m8",
        "colab_type": "code",
        "colab": {}
      },
      "source": [
        "metadata = metadata[metadata['Host Species'] == 'IRD:Human']\n",
        "\n",
        "#Training data\n",
        "training_metadata = metadata[metadata['Collection Date'] < datetime(2018, 1, 1)]\n",
        "training_idxs = [i for i, s in enumerate(sequences) if s.id[3:11] in training_metadata['Sequence Accession'].values]\n",
        "\n",
        "#Testing data\n",
        "test_metadata = metadata[metadata['Collection Date'] >= datetime(2018, 1, 1)]\n",
        "test_idxs = [i for i, s in enumerate(sequences) if s.id[3:11] in test_metadata['Sequence Accession'].values]\n",
        "\n",
        "training_sequences = [sequences[i][30:1737] for i in training_idxs]\n",
        "test_sequences = [sequences[i][30:1737] for i in test_idxs]"
      ],
      "execution_count": 0,
      "outputs": []
    },
    {
      "cell_type": "code",
      "metadata": {
        "id": "BWJaT59DOjbn",
        "colab_type": "code",
        "outputId": "39096ef2-be93-4351-af26-afc7eb6a72ca",
        "colab": {
          "base_uri": "https://localhost:8080/",
          "height": 50
        }
      },
      "source": [
        "print(len(training_idxs))\n",
        "print(len(test_idxs))"
      ],
      "execution_count": 8,
      "outputs": [
        {
          "output_type": "stream",
          "text": [
            "542\n",
            "9\n"
          ],
          "name": "stdout"
        }
      ]
    },
    {
      "cell_type": "code",
      "metadata": {
        "id": "3VoC-1WFHgaK",
        "colab_type": "code",
        "colab": {}
      },
      "source": [
        "codes = {'A':0.05, 'C':0.10, 'D':0.15, 'E':0.20, 'F':0.25, 'G':0.30, 'H':0.35, 'I':0.40, 'K':0.45, 'L':0.50,'M':0.55, 'N':0.60, 'P':0.65, 'Q':0.70, 'R':0.75, 'S':0.80, 'T':0.85, 'V':0.90, 'W':0.95, 'Y':1, '-':0.00}\n",
        "\n",
        "train_data = []\n",
        "for row in training_sequences:\n",
        "  temp = []\n",
        "  for amino_acid in row:\n",
        "    temp.append(codes.get(amino_acid,0))\n",
        "  train_data.append(temp)\n",
        "train_data=np.array(train_data)"
      ],
      "execution_count": 0,
      "outputs": []
    },
    {
      "cell_type": "code",
      "metadata": {
        "id": "xaWlm8f_JEep",
        "colab_type": "code",
        "colab": {
          "base_uri": "https://localhost:8080/",
          "height": 34
        },
        "outputId": "e8fc9d2c-4443-4a7b-9c9f-5b9a79d3155a"
      },
      "source": [
        "train_data.shape"
      ],
      "execution_count": 9,
      "outputs": [
        {
          "output_type": "execute_result",
          "data": {
            "text/plain": [
              "(542, 1707)"
            ]
          },
          "metadata": {
            "tags": []
          },
          "execution_count": 9
        }
      ]
    },
    {
      "cell_type": "code",
      "metadata": {
        "id": "KlYs8YN7up1Z",
        "colab_type": "code",
        "colab": {}
      },
      "source": [
        "protVec = pd.read_csv(\"protVec_100d_3grams.csv\",sep=\"\\t\")\n",
        "protDict = {}\n",
        "for i in range(len(protVec)-1):\n",
        "    protDict[protVec.iloc[i][0].replace('X','-')]=(list(protVec.iloc[i][1:]))\n",
        "protDict['---']=(list(protVec.iloc[9047][1:]))"
      ],
      "execution_count": 0,
      "outputs": []
    },
    {
      "cell_type": "code",
      "metadata": {
        "id": "X_EWO27w2EV-",
        "colab_type": "code",
        "colab": {}
      },
      "source": [
        "X=[]\n",
        "Y=[]\n",
        "for i in range(500):\n",
        "  X.append(training_sequences[i])\n",
        "  Y.append(training_sequences[i+1])"
      ],
      "execution_count": 0,
      "outputs": []
    },
    {
      "cell_type": "code",
      "metadata": {
        "id": "cmr33EAOXPvC",
        "colab_type": "code",
        "colab": {}
      },
      "source": [
        "X_test=[]\n",
        "Y_test=[]\n",
        "for i in range(500,len(training_sequences)-1):\n",
        "  X_test.append(training_sequences[i])\n",
        "  Y_test.append(training_sequences[i+1])"
      ],
      "execution_count": 0,
      "outputs": []
    },
    {
      "cell_type": "code",
      "metadata": {
        "id": "lXZDpRsQZIee",
        "colab_type": "code",
        "colab": {}
      },
      "source": [
        "X = np.array(X)\n",
        "Y = np.array(Y)\n",
        "X_test = np.array(X_test)\n",
        "Y_test = np.array(Y_test)"
      ],
      "execution_count": 0,
      "outputs": []
    },
    {
      "cell_type": "code",
      "metadata": {
        "id": "5OiPcDAp6orQ",
        "colab_type": "code",
        "colab": {
          "base_uri": "https://localhost:8080/",
          "height": 70
        },
        "outputId": "2427c93d-2c9b-4ba7-b79f-aa54560d92a0"
      },
      "source": [
        "import itertools\n",
        "X_test=[]\n",
        "Y_test=[]\n",
        "for row in X:\n",
        "  temp=[]\n",
        "  for i in range(0,568):\n",
        "    temp.append(protDict[row[3*i:3*i+3]])\n",
        "  X_test.append(list(itertools.chain.from_iterable(temp)))\n",
        "\n",
        "for row in Y:\n",
        "  temp=[]\n",
        "  for i in range(0,568):\n",
        "    temp.append(protDict[row[3*i:3*i+3]])\n",
        "  Y_test.append(list(itertools.chain.from_iterable(temp)))"
      ],
      "execution_count": 66,
      "outputs": [
        {
          "output_type": "stream",
          "text": [
            "/usr/local/lib/python3.6/dist-packages/Bio/Seq.py:182: BiopythonWarning: Biopython Seq objects now use string comparison. Older versions of Biopython used object comparison. During this transition, please use hash(id(my_seq)) or my_dict[id(my_seq)] if you want the old behaviour, or use hash(str(my_seq)) or my_dict[str(my_seq)] for the new string hashing behaviour.\n",
            "  BiopythonWarning,\n"
          ],
          "name": "stderr"
        }
      ]
    },
    {
      "cell_type": "code",
      "metadata": {
        "id": "lZOzYPFrA_c-",
        "colab_type": "code",
        "colab": {
          "base_uri": "https://localhost:8080/",
          "height": 34
        },
        "outputId": "9327dc7e-72c4-44cc-fae1-f291117128ac"
      },
      "source": [
        "X[1:].shape"
      ],
      "execution_count": 21,
      "outputs": [
        {
          "output_type": "execute_result",
          "data": {
            "text/plain": [
              "(499, 1707)"
            ]
          },
          "metadata": {
            "tags": []
          },
          "execution_count": 21
        }
      ]
    },
    {
      "cell_type": "code",
      "metadata": {
        "id": "rgtPOqMWaQCy",
        "colab_type": "code",
        "colab": {
          "base_uri": "https://localhost:8080/",
          "height": 151
        },
        "outputId": "d074061b-35fe-4502-f2e9-aceef8185325"
      },
      "source": [
        "!pip install --upgrade keras"
      ],
      "execution_count": 24,
      "outputs": [
        {
          "output_type": "stream",
          "text": [
            "Requirement already up-to-date: keras in /usr/local/lib/python3.6/dist-packages (2.3.1)\n",
            "Requirement already satisfied, skipping upgrade: six>=1.9.0 in /usr/local/lib/python3.6/dist-packages (from keras) (1.12.0)\n",
            "Requirement already satisfied, skipping upgrade: numpy>=1.9.1 in /usr/local/lib/python3.6/dist-packages (from keras) (1.18.3)\n",
            "Requirement already satisfied, skipping upgrade: h5py in /usr/local/lib/python3.6/dist-packages (from keras) (2.10.0)\n",
            "Requirement already satisfied, skipping upgrade: pyyaml in /usr/local/lib/python3.6/dist-packages (from keras) (3.13)\n",
            "Requirement already satisfied, skipping upgrade: scipy>=0.14 in /usr/local/lib/python3.6/dist-packages (from keras) (1.4.1)\n",
            "Requirement already satisfied, skipping upgrade: keras-preprocessing>=1.0.5 in /usr/local/lib/python3.6/dist-packages (from keras) (1.1.0)\n",
            "Requirement already satisfied, skipping upgrade: keras-applications>=1.0.6 in /usr/local/lib/python3.6/dist-packages (from keras) (1.0.8)\n"
          ],
          "name": "stdout"
        }
      ]
    },
    {
      "cell_type": "code",
      "metadata": {
        "id": "4sxssUkl6VWC",
        "colab_type": "code",
        "colab": {
          "base_uri": "https://localhost:8080/",
          "height": 370
        },
        "outputId": "1c7cd311-3ed8-4edf-9a55-778f83963ff7"
      },
      "source": [
        "import tensorflow as tf\n",
        "from tensorflow.keras.models import Sequential\n",
        "from tensorflow.keras.layers import LSTM, Dense, Dropout, Masking, Embedding\n",
        "\n",
        "model = Sequential()\n",
        "\n",
        "model.add(LSTM(128, input_shape=(1707),return_sequences=True))\n",
        "model.add(Dropout(0.2))\n",
        "\n",
        "\n",
        "model.add(Dense(32, activation='relu'))\n",
        "model.add(Dropout(0.2))\n",
        "\n",
        "model.add(LSTM(128))\n",
        "model.add(Dropout(0.2))\n",
        "\n",
        "model.add(Dense(1707, activation='softmax'))\n",
        "\n",
        "model.summary()\n",
        "\n",
        "opt = tf.keras.optimizers.Adam(lr=0.001, decay=1e-6)\n",
        "\n",
        "model.compile(\n",
        "    loss='sparse_categorical_crossentropy',\n",
        "    optimizer=opt,\n",
        "    metrics=['accuracy'],\n",
        ")\n",
        "\n",
        "model.fit(X,Y,epochs=3,validation_data=(X_test, Y_test))\n",
        "\n"
      ],
      "execution_count": 29,
      "outputs": [
        {
          "output_type": "error",
          "ename": "TypeError",
          "evalue": "ignored",
          "traceback": [
            "\u001b[0;31m---------------------------------------------------------------------------\u001b[0m",
            "\u001b[0;31mTypeError\u001b[0m                                 Traceback (most recent call last)",
            "\u001b[0;32m<ipython-input-29-592b8b5c6331>\u001b[0m in \u001b[0;36m<module>\u001b[0;34m()\u001b[0m\n\u001b[1;32m      5\u001b[0m \u001b[0mmodel\u001b[0m \u001b[0;34m=\u001b[0m \u001b[0mSequential\u001b[0m\u001b[0;34m(\u001b[0m\u001b[0;34m)\u001b[0m\u001b[0;34m\u001b[0m\u001b[0;34m\u001b[0m\u001b[0m\n\u001b[1;32m      6\u001b[0m \u001b[0;34m\u001b[0m\u001b[0m\n\u001b[0;32m----> 7\u001b[0;31m \u001b[0mmodel\u001b[0m\u001b[0;34m.\u001b[0m\u001b[0madd\u001b[0m\u001b[0;34m(\u001b[0m\u001b[0mLSTM\u001b[0m\u001b[0;34m(\u001b[0m\u001b[0;36m128\u001b[0m\u001b[0;34m,\u001b[0m \u001b[0minput_shape\u001b[0m\u001b[0;34m=\u001b[0m\u001b[0;34m(\u001b[0m\u001b[0;36m1707\u001b[0m\u001b[0;34m)\u001b[0m\u001b[0;34m,\u001b[0m\u001b[0mreturn_sequences\u001b[0m\u001b[0;34m=\u001b[0m\u001b[0;32mTrue\u001b[0m\u001b[0;34m)\u001b[0m\u001b[0;34m)\u001b[0m\u001b[0;34m\u001b[0m\u001b[0;34m\u001b[0m\u001b[0m\n\u001b[0m\u001b[1;32m      8\u001b[0m \u001b[0mmodel\u001b[0m\u001b[0;34m.\u001b[0m\u001b[0madd\u001b[0m\u001b[0;34m(\u001b[0m\u001b[0mDropout\u001b[0m\u001b[0;34m(\u001b[0m\u001b[0;36m0.2\u001b[0m\u001b[0;34m)\u001b[0m\u001b[0;34m)\u001b[0m\u001b[0;34m\u001b[0m\u001b[0;34m\u001b[0m\u001b[0m\n\u001b[1;32m      9\u001b[0m \u001b[0;34m\u001b[0m\u001b[0m\n",
            "\u001b[0;32m/usr/local/lib/python3.6/dist-packages/tensorflow/python/keras/layers/recurrent_v2.py\u001b[0m in \u001b[0;36m__init__\u001b[0;34m(self, units, activation, recurrent_activation, use_bias, kernel_initializer, recurrent_initializer, bias_initializer, unit_forget_bias, kernel_regularizer, recurrent_regularizer, bias_regularizer, activity_regularizer, kernel_constraint, recurrent_constraint, bias_constraint, dropout, recurrent_dropout, implementation, return_sequences, return_state, go_backwards, stateful, time_major, unroll, **kwargs)\u001b[0m\n\u001b[1;32m   1084\u001b[0m         \u001b[0mtime_major\u001b[0m\u001b[0;34m=\u001b[0m\u001b[0mtime_major\u001b[0m\u001b[0;34m,\u001b[0m\u001b[0;34m\u001b[0m\u001b[0;34m\u001b[0m\u001b[0m\n\u001b[1;32m   1085\u001b[0m         \u001b[0munroll\u001b[0m\u001b[0;34m=\u001b[0m\u001b[0munroll\u001b[0m\u001b[0;34m,\u001b[0m\u001b[0;34m\u001b[0m\u001b[0;34m\u001b[0m\u001b[0m\n\u001b[0;32m-> 1086\u001b[0;31m         **kwargs)\n\u001b[0m\u001b[1;32m   1087\u001b[0m \u001b[0;34m\u001b[0m\u001b[0m\n\u001b[1;32m   1088\u001b[0m     self.state_spec = [\n",
            "\u001b[0;32m/usr/local/lib/python3.6/dist-packages/tensorflow/python/keras/layers/recurrent.py\u001b[0m in \u001b[0;36m__init__\u001b[0;34m(self, *args, **kwargs)\u001b[0m\n\u001b[1;32m   1097\u001b[0m     self._recurrent_dropout_mask_cache = K.ContextValueCache(\n\u001b[1;32m   1098\u001b[0m         self._create_recurrent_dropout_mask)\n\u001b[0;32m-> 1099\u001b[0;31m     \u001b[0msuper\u001b[0m\u001b[0;34m(\u001b[0m\u001b[0mDropoutRNNCellMixin\u001b[0m\u001b[0;34m,\u001b[0m \u001b[0mself\u001b[0m\u001b[0;34m)\u001b[0m\u001b[0;34m.\u001b[0m\u001b[0m__init__\u001b[0m\u001b[0;34m(\u001b[0m\u001b[0;34m*\u001b[0m\u001b[0margs\u001b[0m\u001b[0;34m,\u001b[0m \u001b[0;34m**\u001b[0m\u001b[0mkwargs\u001b[0m\u001b[0;34m)\u001b[0m\u001b[0;34m\u001b[0m\u001b[0;34m\u001b[0m\u001b[0m\n\u001b[0m\u001b[1;32m   1100\u001b[0m \u001b[0;34m\u001b[0m\u001b[0m\n\u001b[1;32m   1101\u001b[0m   \u001b[0;32mdef\u001b[0m \u001b[0mreset_dropout_mask\u001b[0m\u001b[0;34m(\u001b[0m\u001b[0mself\u001b[0m\u001b[0;34m)\u001b[0m\u001b[0;34m:\u001b[0m\u001b[0;34m\u001b[0m\u001b[0;34m\u001b[0m\u001b[0m\n",
            "\u001b[0;32m/usr/local/lib/python3.6/dist-packages/tensorflow/python/keras/layers/recurrent.py\u001b[0m in \u001b[0;36m__init__\u001b[0;34m(self, units, activation, recurrent_activation, use_bias, kernel_initializer, recurrent_initializer, bias_initializer, unit_forget_bias, kernel_regularizer, recurrent_regularizer, bias_regularizer, activity_regularizer, kernel_constraint, recurrent_constraint, bias_constraint, dropout, recurrent_dropout, implementation, return_sequences, return_state, go_backwards, stateful, unroll, **kwargs)\u001b[0m\n\u001b[1;32m   2713\u001b[0m         \u001b[0mstateful\u001b[0m\u001b[0;34m=\u001b[0m\u001b[0mstateful\u001b[0m\u001b[0;34m,\u001b[0m\u001b[0;34m\u001b[0m\u001b[0;34m\u001b[0m\u001b[0m\n\u001b[1;32m   2714\u001b[0m         \u001b[0munroll\u001b[0m\u001b[0;34m=\u001b[0m\u001b[0munroll\u001b[0m\u001b[0;34m,\u001b[0m\u001b[0;34m\u001b[0m\u001b[0;34m\u001b[0m\u001b[0m\n\u001b[0;32m-> 2715\u001b[0;31m         **kwargs)\n\u001b[0m\u001b[1;32m   2716\u001b[0m     \u001b[0mself\u001b[0m\u001b[0;34m.\u001b[0m\u001b[0mactivity_regularizer\u001b[0m \u001b[0;34m=\u001b[0m \u001b[0mregularizers\u001b[0m\u001b[0;34m.\u001b[0m\u001b[0mget\u001b[0m\u001b[0;34m(\u001b[0m\u001b[0mactivity_regularizer\u001b[0m\u001b[0;34m)\u001b[0m\u001b[0;34m\u001b[0m\u001b[0;34m\u001b[0m\u001b[0m\n\u001b[1;32m   2717\u001b[0m     \u001b[0mself\u001b[0m\u001b[0;34m.\u001b[0m\u001b[0minput_spec\u001b[0m \u001b[0;34m=\u001b[0m \u001b[0;34m[\u001b[0m\u001b[0mInputSpec\u001b[0m\u001b[0;34m(\u001b[0m\u001b[0mndim\u001b[0m\u001b[0;34m=\u001b[0m\u001b[0;36m3\u001b[0m\u001b[0;34m)\u001b[0m\u001b[0;34m]\u001b[0m\u001b[0;34m\u001b[0m\u001b[0;34m\u001b[0m\u001b[0m\n",
            "\u001b[0;32m/usr/local/lib/python3.6/dist-packages/tensorflow/python/keras/layers/recurrent.py\u001b[0m in \u001b[0;36m__init__\u001b[0;34m(self, cell, return_sequences, return_state, go_backwards, stateful, unroll, time_major, **kwargs)\u001b[0m\n\u001b[1;32m    415\u001b[0m       \u001b[0mkwargs\u001b[0m\u001b[0;34m[\u001b[0m\u001b[0;34m'input_shape'\u001b[0m\u001b[0;34m]\u001b[0m \u001b[0;34m=\u001b[0m \u001b[0minput_shape\u001b[0m\u001b[0;34m\u001b[0m\u001b[0;34m\u001b[0m\u001b[0m\n\u001b[1;32m    416\u001b[0m \u001b[0;34m\u001b[0m\u001b[0m\n\u001b[0;32m--> 417\u001b[0;31m     \u001b[0msuper\u001b[0m\u001b[0;34m(\u001b[0m\u001b[0mRNN\u001b[0m\u001b[0;34m,\u001b[0m \u001b[0mself\u001b[0m\u001b[0;34m)\u001b[0m\u001b[0;34m.\u001b[0m\u001b[0m__init__\u001b[0m\u001b[0;34m(\u001b[0m\u001b[0;34m**\u001b[0m\u001b[0mkwargs\u001b[0m\u001b[0;34m)\u001b[0m\u001b[0;34m\u001b[0m\u001b[0;34m\u001b[0m\u001b[0m\n\u001b[0m\u001b[1;32m    418\u001b[0m     \u001b[0mself\u001b[0m\u001b[0;34m.\u001b[0m\u001b[0mcell\u001b[0m \u001b[0;34m=\u001b[0m \u001b[0mcell\u001b[0m\u001b[0;34m\u001b[0m\u001b[0;34m\u001b[0m\u001b[0m\n\u001b[1;32m    419\u001b[0m     \u001b[0mself\u001b[0m\u001b[0;34m.\u001b[0m\u001b[0mreturn_sequences\u001b[0m \u001b[0;34m=\u001b[0m \u001b[0mreturn_sequences\u001b[0m\u001b[0;34m\u001b[0m\u001b[0;34m\u001b[0m\u001b[0m\n",
            "\u001b[0;32m/usr/local/lib/python3.6/dist-packages/tensorflow/python/training/tracking/base.py\u001b[0m in \u001b[0;36m_method_wrapper\u001b[0;34m(self, *args, **kwargs)\u001b[0m\n\u001b[1;32m    454\u001b[0m     \u001b[0mself\u001b[0m\u001b[0;34m.\u001b[0m\u001b[0m_self_setattr_tracking\u001b[0m \u001b[0;34m=\u001b[0m \u001b[0;32mFalse\u001b[0m  \u001b[0;31m# pylint: disable=protected-access\u001b[0m\u001b[0;34m\u001b[0m\u001b[0;34m\u001b[0m\u001b[0m\n\u001b[1;32m    455\u001b[0m     \u001b[0;32mtry\u001b[0m\u001b[0;34m:\u001b[0m\u001b[0;34m\u001b[0m\u001b[0;34m\u001b[0m\u001b[0m\n\u001b[0;32m--> 456\u001b[0;31m       \u001b[0mresult\u001b[0m \u001b[0;34m=\u001b[0m \u001b[0mmethod\u001b[0m\u001b[0;34m(\u001b[0m\u001b[0mself\u001b[0m\u001b[0;34m,\u001b[0m \u001b[0;34m*\u001b[0m\u001b[0margs\u001b[0m\u001b[0;34m,\u001b[0m \u001b[0;34m**\u001b[0m\u001b[0mkwargs\u001b[0m\u001b[0;34m)\u001b[0m\u001b[0;34m\u001b[0m\u001b[0;34m\u001b[0m\u001b[0m\n\u001b[0m\u001b[1;32m    457\u001b[0m     \u001b[0;32mfinally\u001b[0m\u001b[0;34m:\u001b[0m\u001b[0;34m\u001b[0m\u001b[0;34m\u001b[0m\u001b[0m\n\u001b[1;32m    458\u001b[0m       \u001b[0mself\u001b[0m\u001b[0;34m.\u001b[0m\u001b[0m_self_setattr_tracking\u001b[0m \u001b[0;34m=\u001b[0m \u001b[0mprevious_value\u001b[0m  \u001b[0;31m# pylint: disable=protected-access\u001b[0m\u001b[0;34m\u001b[0m\u001b[0;34m\u001b[0m\u001b[0m\n",
            "\u001b[0;32m/usr/local/lib/python3.6/dist-packages/tensorflow/python/keras/engine/base_layer.py\u001b[0m in \u001b[0;36m__init__\u001b[0;34m(self, trainable, name, dtype, dynamic, **kwargs)\u001b[0m\n\u001b[1;32m    371\u001b[0m         \u001b[0;32melse\u001b[0m\u001b[0;34m:\u001b[0m\u001b[0;34m\u001b[0m\u001b[0;34m\u001b[0m\u001b[0m\n\u001b[1;32m    372\u001b[0m           \u001b[0mbatch_size\u001b[0m \u001b[0;34m=\u001b[0m \u001b[0;32mNone\u001b[0m\u001b[0;34m\u001b[0m\u001b[0;34m\u001b[0m\u001b[0m\n\u001b[0;32m--> 373\u001b[0;31m         \u001b[0mbatch_input_shape\u001b[0m \u001b[0;34m=\u001b[0m \u001b[0;34m(\u001b[0m\u001b[0mbatch_size\u001b[0m\u001b[0;34m,\u001b[0m\u001b[0;34m)\u001b[0m \u001b[0;34m+\u001b[0m \u001b[0mtuple\u001b[0m\u001b[0;34m(\u001b[0m\u001b[0mkwargs\u001b[0m\u001b[0;34m[\u001b[0m\u001b[0;34m'input_shape'\u001b[0m\u001b[0;34m]\u001b[0m\u001b[0;34m)\u001b[0m\u001b[0;34m\u001b[0m\u001b[0;34m\u001b[0m\u001b[0m\n\u001b[0m\u001b[1;32m    374\u001b[0m       \u001b[0mself\u001b[0m\u001b[0;34m.\u001b[0m\u001b[0m_batch_input_shape\u001b[0m \u001b[0;34m=\u001b[0m \u001b[0mbatch_input_shape\u001b[0m\u001b[0;34m\u001b[0m\u001b[0;34m\u001b[0m\u001b[0m\n\u001b[1;32m    375\u001b[0m \u001b[0;34m\u001b[0m\u001b[0m\n",
            "\u001b[0;31mTypeError\u001b[0m: 'int' object is not iterable"
          ]
        }
      ]
    },
    {
      "cell_type": "code",
      "metadata": {
        "id": "0sz1fbBhdYBi",
        "colab_type": "code",
        "colab": {}
      },
      "source": [
        "#importing data from tensorflow database\n",
        "import tensorflow as tf\n",
        "\n",
        "mnist = tf.keras.datasets.mnist  \n",
        "(x_train, y_train),(x_test, y_test) = mnist.load_data() "
      ],
      "execution_count": 0,
      "outputs": []
    },
    {
      "cell_type": "code",
      "metadata": {
        "id": "nfs0hqhBdmEj",
        "colab_type": "code",
        "colab": {
          "base_uri": "https://localhost:8080/",
          "height": 265
        },
        "outputId": "b57ba703-dd80-4865-f645-7204a98dda33"
      },
      "source": [
        "# test if the the correct input is downloaded or not\n",
        "import matplotlib.pyplot as plt\n",
        "plt.imshow(x_train[0], cmap='gray')\n",
        "plt.show()"
      ],
      "execution_count": 57,
      "outputs": [
        {
          "output_type": "display_data",
          "data": {
            "image/png": "[encoded data removed]",
            "text/plain": [
              "<Figure size 432x288 with 1 Axes>"
            ]
          },
          "metadata": {
            "tags": [],
            "needs_background": "light"
          }
        }
      ]
    },
    {
      "cell_type": "code",
      "metadata": {
        "id": "c_DZBBIYhw9z",
        "colab_type": "code",
        "colab": {}
      },
      "source": [
        "#normalise the data input vector\n",
        "x_train = x_train/255.0\n",
        "x_test = x_test/255.0"
      ],
      "execution_count": 0,
      "outputs": []
    },
    {
      "cell_type": "code",
      "metadata": {
        "id": "-mXPuBtLeify",
        "colab_type": "code",
        "colab": {
          "base_uri": "https://localhost:8080/",
          "height": 386
        },
        "outputId": "96a3b032-4618-436c-b974-98da9c85d6c3"
      },
      "source": [
        "from keras.models import Sequential\n",
        "from keras.layers import Dense, Dropout, LSTM\n",
        "\n",
        "model = Sequential()\n",
        "\n",
        "model.add(LSTM(128, input_shape=(x_train.shape[1:]), return_sequences=True))\n",
        "model.add(Dropout(0.2))\n",
        "\n",
        "model.add(LSTM(128))\n",
        "model.add(Dropout(0.1))\n",
        "\n",
        "model.add(Dense(32, activation='relu'))\n",
        "model.add(Dropout(0.2))\n",
        "\n",
        "model.add(Dense(10, activation='softmax'))\n",
        "\n",
        "opt = tf.keras.optimizers.Adam(lr=0.001, decay=1e-6)\n",
        "\n",
        "model.summary()"
      ],
      "execution_count": 46,
      "outputs": [
        {
          "output_type": "stream",
          "text": [
            "Model: \"sequential_5\"\n",
            "_________________________________________________________________\n",
            "Layer (type)                 Output Shape              Param #   \n",
            "=================================================================\n",
            "lstm_1 (LSTM)                (None, 28, 128)           80384     \n",
            "_________________________________________________________________\n",
            "dropout_1 (Dropout)          (None, 28, 128)           0         \n",
            "_________________________________________________________________\n",
            "lstm_2 (LSTM)                (None, 128)               131584    \n",
            "_________________________________________________________________\n",
            "dropout_2 (Dropout)          (None, 128)               0         \n",
            "_________________________________________________________________\n",
            "dense_1 (Dense)              (None, 32)                4128      \n",
            "_________________________________________________________________\n",
            "dropout_3 (Dropout)          (None, 32)                0         \n",
            "_________________________________________________________________\n",
            "dense_2 (Dense)              (None, 10)                330       \n",
            "=================================================================\n",
            "Total params: 216,426\n",
            "Trainable params: 216,426\n",
            "Non-trainable params: 0\n",
            "_________________________________________________________________\n"
          ],
          "name": "stdout"
        }
      ]
    },
    {
      "cell_type": "code",
      "metadata": {
        "id": "KEhpSsTpfOM4",
        "colab_type": "code",
        "colab": {
          "base_uri": "https://localhost:8080/",
          "height": 151
        },
        "outputId": "6e87d4b1-0d50-4801-8eb3-277417c0b3bd"
      },
      "source": [
        "model.compile(\n",
        "    loss='sparse_categorical_crossentropy',\n",
        "    optimizer=opt,\n",
        "    metrics=['accuracy'],\n",
        ")\n",
        "\n",
        "model.fit(x_train,\n",
        "          y_train,\n",
        "          epochs=3,\n",
        "          validation_data=(x_test, y_test))"
      ],
      "execution_count": 47,
      "outputs": [
        {
          "output_type": "stream",
          "text": [
            "Train on 60000 samples, validate on 10000 samples\n",
            "Epoch 1/3\n",
            "60000/60000 [==============================] - 224s 4ms/step - loss: 0.3986 - accuracy: 0.8784 - val_loss: 0.1281 - val_accuracy: 0.9622\n",
            "Epoch 2/3\n",
            "60000/60000 [==============================] - 223s 4ms/step - loss: 0.1239 - accuracy: 0.9673 - val_loss: 0.0809 - val_accuracy: 0.9769\n",
            "Epoch 3/3\n",
            "60000/60000 [==============================] - 223s 4ms/step - loss: 0.0850 - accuracy: 0.9775 - val_loss: 0.0602 - val_accuracy: 0.9835\n"
          ],
          "name": "stdout"
        },
        {
          "output_type": "execute_result",
          "data": {
            "text/plain": [
              "<keras.callbacks.callbacks.History at 0x7f081458d470>"
            ]
          },
          "metadata": {
            "tags": []
          },
          "execution_count": 47
        }
      ]
    },
    {
      "cell_type": "code",
      "metadata": {
        "id": "vdwCBNz9kndG",
        "colab_type": "code",
        "colab": {}
      },
      "source": [
        "# to flat array\n",
        "def flat_array(array):\n",
        "  return list(itertools.chain.from_iterable(array))\n",
        "x_train_flat = list(map(flat_array, x_train))\n",
        "x_test_flat = list(map(flat_array, x_test))"
      ],
      "execution_count": 0,
      "outputs": []
    },
    {
      "cell_type": "code",
      "metadata": {
        "id": "NAArIernkL4S",
        "colab_type": "code",
        "colab": {
          "base_uri": "https://localhost:8080/",
          "height": 289
        },
        "outputId": "7e9c1b46-ad7f-485a-cd02-9aa1fb0c03cc"
      },
      "source": [
        "from sklearn.neural_network import MLPClassifier\n",
        "\n",
        "clf = MLPClassifier(solver='adam', \n",
        "                    activation='relu', \n",
        "                    alpha=1e-5, \n",
        "                    max_iter=3,\n",
        "                    hidden_layer_sizes=(128,32), \n",
        "                    random_state=1, \n",
        "                    learning_rate='adaptive', \n",
        "                    early_stopping=True, \n",
        "                    validation_fraction=0.2,\n",
        "                    verbose=True)\n",
        "\n",
        "clf.fit(x_train_flat, y_train)"
      ],
      "execution_count": 60,
      "outputs": [
        {
          "output_type": "stream",
          "text": [
            "Iteration 1, loss = 0.50049868\n",
            "Validation score: 0.936583\n",
            "Iteration 2, loss = 0.18070715\n",
            "Validation score: 0.953083\n",
            "Iteration 3, loss = 0.12885425\n",
            "Validation score: 0.962167\n"
          ],
          "name": "stdout"
        },
        {
          "output_type": "stream",
          "text": [
            "/usr/local/lib/python3.6/dist-packages/sklearn/neural_network/_multilayer_perceptron.py:571: ConvergenceWarning: Stochastic Optimizer: Maximum iterations (3) reached and the optimization hasn't converged yet.\n",
            "  % self.max_iter, ConvergenceWarning)\n"
          ],
          "name": "stderr"
        },
        {
          "output_type": "execute_result",
          "data": {
            "text/plain": [
              "MLPClassifier(activation='relu', alpha=1e-05, batch_size='auto', beta_1=0.9,\n",
              "              beta_2=0.999, early_stopping=True, epsilon=1e-08,\n",
              "              hidden_layer_sizes=(128, 32), learning_rate='adaptive',\n",
              "              learning_rate_init=0.001, max_fun=15000, max_iter=3, momentum=0.9,\n",
              "              n_iter_no_change=10, nesterovs_momentum=True, power_t=0.5,\n",
              "              random_state=1, shuffle=True, solver='adam', tol=0.0001,\n",
              "              validation_fraction=0.2, verbose=True, warm_start=False)"
            ]
          },
          "metadata": {
            "tags": []
          },
          "execution_count": 60
        }
      ]
    },
    {
      "cell_type": "code",
      "metadata": {
        "id": "LMzMKm2hlX1Q",
        "colab_type": "code",
        "colab": {
          "base_uri": "https://localhost:8080/",
          "height": 67
        },
        "outputId": "6c6d0cc8-68b4-4431-b583-49668c9bc9dc"
      },
      "source": [
        "Y_pred_RNN=model.predict(x_test)\n",
        "\n",
        "print(\"With tensorflow RNN\")\n",
        "print(model.evaluate(x_test, y_test, batch_size=128))"
      ],
      "execution_count": 65,
      "outputs": [
        {
          "output_type": "stream",
          "text": [
            "With tensorflow RNN\n",
            "10000/10000 [==============================] - 1s 106us/step\n",
            "[0.06015608089715242, 0.9835000038146973]\n"
          ],
          "name": "stdout"
        }
      ]
    },
    {
      "cell_type": "code",
      "metadata": {
        "id": "kBxP3m0SnXJE",
        "colab_type": "code",
        "colab": {
          "base_uri": "https://localhost:8080/",
          "height": 934
        },
        "outputId": "9250588d-b675-4eff-9e28-14b1904109b2"
      },
      "source": [
        "from sklearn.metrics import classification_report, confusion_matrix\n",
        "from sklearn.metrics import plot_confusion_matrix\n",
        "\n",
        "Y_pred_MLP=clf.predict(x_test_flat)\n",
        "\n",
        "print(\"With Sklearn MLP classifier\")\n",
        "print(confusion_matrix(y_test, Y_pred_MLP))\n",
        "print(classification_report(y_test, Y_pred_MLP))\n",
        "disp = plot_confusion_matrix(clf, x_test_flat, y_test,\n",
        "                             cmap=plt.cm.Blues,\n",
        "                             normalize=None\n",
        "                             )\n",
        "disp.ax_.set_title('MLP classifier')\n",
        "print(disp.confusion_matrix)\n",
        "plt.show()"
      ],
      "execution_count": 75,
      "outputs": [
        {
          "output_type": "stream",
          "text": [
            "With Sklearn MLP classifier\n",
            "[[ 968    0    1    1    0    3    4    1    1    1]\n",
            " [   0 1118    3    0    1    1    4    1    7    0]\n",
            " [   7    2  981   11    4    1    5    8   12    1]\n",
            " [   1    2    6  961    0   14    1    8   13    4]\n",
            " [   1    0    4    1  944    0   10    3    4   15]\n",
            " [   7    0    0    9    0  860    8    2    5    1]\n",
            " [   7    3    0    1    5   11  927    1    3    0]\n",
            " [   2    6   13    8    3    0    0  980    2   14]\n",
            " [   4    1    2   12    3    4    9    5  930    4]\n",
            " [   3    6    2    8   11    3    1    9    6  960]]\n",
            "              precision    recall  f1-score   support\n",
            "\n",
            "           0       0.97      0.99      0.98       980\n",
            "           1       0.98      0.99      0.98      1135\n",
            "           2       0.97      0.95      0.96      1032\n",
            "           3       0.95      0.95      0.95      1010\n",
            "           4       0.97      0.96      0.97       982\n",
            "           5       0.96      0.96      0.96       892\n",
            "           6       0.96      0.97      0.96       958\n",
            "           7       0.96      0.95      0.96      1028\n",
            "           8       0.95      0.95      0.95       974\n",
            "           9       0.96      0.95      0.96      1009\n",
            "\n",
            "    accuracy                           0.96     10000\n",
            "   macro avg       0.96      0.96      0.96     10000\n",
            "weighted avg       0.96      0.96      0.96     10000\n",
            "\n",
            "[[ 968    0    1    1    0    3    4    1    1    1]\n",
            " [   0 1118    3    0    1    1    4    1    7    0]\n",
            " [   7    2  981   11    4    1    5    8   12    1]\n",
            " [   1    2    6  961    0   14    1    8   13    4]\n",
            " [   1    0    4    1  944    0   10    3    4   15]\n",
            " [   7    0    0    9    0  860    8    2    5    1]\n",
            " [   7    3    0    1    5   11  927    1    3    0]\n",
            " [   2    6   13    8    3    0    0  980    2   14]\n",
            " [   4    1    2   12    3    4    9    5  930    4]\n",
            " [   3    6    2    8   11    3    1    9    6  960]]\n"
          ],
          "name": "stdout"
        },
        {
          "output_type": "display_data",
          "data": {
            "image/png": "[encoded data removed]",
            "text/plain": [
              "<Figure size 432x288 with 2 Axes>"
            ]
          },
          "metadata": {
            "tags": [],
            "needs_background": "light"
          }
        }
      ]
    }
  ]
}